{
 "cells": [
  {
   "cell_type": "code",
   "execution_count": 0,
   "metadata": {
    "colab": {
     "base_uri": "https://localhost:8080/",
     "height": 606
    },
    "colab_type": "code",
    "id": "mw27vrgxRvDc",
    "outputId": "51f91c55-1840-4d69-de0e-a2370d1f5db8"
   },
   "outputs": [
    {
     "name": "stdout",
     "output_type": "stream",
     "text": [
      "Collecting comet_ml\n",
      "\u001b[?25l  Downloading https://files.pythonhosted.org/packages/83/5c/80369905a5ff6f356be389b1f2b4f092ded3717f753d31f7c5a322c6a3f7/comet_ml-3.1.2-py2.py3-none-any.whl (183kB)\n",
      "\r",
      "\u001b[K     |█▉                              | 10kB 18.8MB/s eta 0:00:01\r",
      "\u001b[K     |███▋                            | 20kB 1.7MB/s eta 0:00:01\r",
      "\u001b[K     |█████▍                          | 30kB 2.2MB/s eta 0:00:01\r",
      "\u001b[K     |███████▏                        | 40kB 1.6MB/s eta 0:00:01\r",
      "\u001b[K     |█████████                       | 51kB 1.9MB/s eta 0:00:01\r",
      "\u001b[K     |██████████▊                     | 61kB 2.2MB/s eta 0:00:01\r",
      "\u001b[K     |████████████▌                   | 71kB 2.4MB/s eta 0:00:01\r",
      "\u001b[K     |██████████████▎                 | 81kB 2.7MB/s eta 0:00:01\r",
      "\u001b[K     |████████████████                | 92kB 2.9MB/s eta 0:00:01\r",
      "\u001b[K     |█████████████████▉              | 102kB 2.7MB/s eta 0:00:01\r",
      "\u001b[K     |███████████████████▋            | 112kB 2.7MB/s eta 0:00:01\r",
      "\u001b[K     |█████████████████████▍          | 122kB 2.7MB/s eta 0:00:01\r",
      "\u001b[K     |███████████████████████▎        | 133kB 2.7MB/s eta 0:00:01\r",
      "\u001b[K     |█████████████████████████       | 143kB 2.7MB/s eta 0:00:01\r",
      "\u001b[K     |██████████████████████████▉     | 153kB 2.7MB/s eta 0:00:01\r",
      "\u001b[K     |████████████████████████████▋   | 163kB 2.7MB/s eta 0:00:01\r",
      "\u001b[K     |██████████████████████████████▍ | 174kB 2.7MB/s eta 0:00:01\r",
      "\u001b[K     |████████████████████████████████| 184kB 2.7MB/s \n",
      "\u001b[?25hCollecting everett[ini]>=1.0.1; python_version >= \"3.0\"\n",
      "  Downloading https://files.pythonhosted.org/packages/12/34/de70a3d913411e40ce84966f085b5da0c6df741e28c86721114dd290aaa0/everett-1.0.2-py2.py3-none-any.whl\n",
      "Requirement already satisfied: jsonschema<3.1.0,>=2.6.0 in /usr/local/lib/python3.6/dist-packages (from comet_ml) (2.6.0)\n",
      "Collecting websocket-client>=0.55.0\n",
      "\u001b[?25l  Downloading https://files.pythonhosted.org/packages/4c/5f/f61b420143ed1c8dc69f9eaec5ff1ac36109d52c80de49d66e0c36c3dfdf/websocket_client-0.57.0-py2.py3-none-any.whl (200kB)\n",
      "\u001b[K     |████████████████████████████████| 204kB 8.7MB/s \n",
      "\u001b[?25hRequirement already satisfied: six in /usr/local/lib/python3.6/dist-packages (from comet_ml) (1.12.0)\n",
      "Collecting wurlitzer>=1.0.2\n",
      "  Downloading https://files.pythonhosted.org/packages/24/5e/f3bd8443bfdf96d2f5d10097d301076a9eb55637b7864e52d2d1a4d8c72a/wurlitzer-2.0.0-py2.py3-none-any.whl\n",
      "Collecting comet-git-pure>=0.19.11\n",
      "\u001b[?25l  Downloading https://files.pythonhosted.org/packages/56/2b/c1ca11a237e3fcbe0c1ea53134901f30f3aa657e5ea141dccaae0f46df0e/comet_git_pure-0.19.15-py3-none-any.whl (401kB)\n",
      "\u001b[K     |████████████████████████████████| 409kB 12.3MB/s \n",
      "\u001b[?25hRequirement already satisfied: nvidia-ml-py3>=7.352.0 in /usr/local/lib/python3.6/dist-packages (from comet_ml) (7.352.0)\n",
      "Collecting netifaces>=0.10.7\n",
      "  Downloading https://files.pythonhosted.org/packages/0c/9b/c4c7eb09189548d45939a3d3a6b3d53979c67d124459b27a094c365c347f/netifaces-0.10.9-cp36-cp36m-manylinux1_x86_64.whl\n",
      "Requirement already satisfied: requests>=2.18.4 in /usr/local/lib/python3.6/dist-packages (from comet_ml) (2.21.0)\n",
      "Collecting configobj; extra == \"ini\"\n",
      "  Downloading https://files.pythonhosted.org/packages/64/61/079eb60459c44929e684fa7d9e2fdca403f67d64dd9dbac27296be2e0fab/configobj-5.0.6.tar.gz\n",
      "Requirement already satisfied: certifi in /usr/local/lib/python3.6/dist-packages (from comet-git-pure>=0.19.11->comet_ml) (2019.11.28)\n",
      "Requirement already satisfied: urllib3>=1.24.1 in /usr/local/lib/python3.6/dist-packages (from comet-git-pure>=0.19.11->comet_ml) (1.24.3)\n",
      "Requirement already satisfied: chardet<3.1.0,>=3.0.2 in /usr/local/lib/python3.6/dist-packages (from requests>=2.18.4->comet_ml) (3.0.4)\n",
      "Requirement already satisfied: idna<2.9,>=2.5 in /usr/local/lib/python3.6/dist-packages (from requests>=2.18.4->comet_ml) (2.8)\n",
      "Building wheels for collected packages: configobj\n",
      "  Building wheel for configobj (setup.py) ... \u001b[?25l\u001b[?25hdone\n",
      "  Created wheel for configobj: filename=configobj-5.0.6-cp36-none-any.whl size=34546 sha256=3eea3b626d8c8fc714eb9d5cf29e8dac324c327991701f2b03fdf8e46de7d8d8\n",
      "  Stored in directory: /root/.cache/pip/wheels/f1/e4/16/4981ca97c2d65106b49861e0b35e2660695be7219a2d351ee0\n",
      "Successfully built configobj\n",
      "Installing collected packages: configobj, everett, websocket-client, wurlitzer, comet-git-pure, netifaces, comet-ml\n",
      "Successfully installed comet-git-pure-0.19.15 comet-ml-3.1.2 configobj-5.0.6 everett-1.0.2 netifaces-0.10.9 websocket-client-0.57.0 wurlitzer-2.0.0\n"
     ]
    }
   ],
   "source": [
    "import os\n",
    "os.environ[\"CUDA_VISIBLE_DEVICES\"]='0'\n",
    "\n",
    "\n",
    "!pip install comet_ml\n",
    "from comet_ml import Experiment"
   ]
  },
  {
   "cell_type": "markdown",
   "metadata": {
    "colab_type": "text",
    "id": "JRHo8nMaRvDo"
   },
   "source": [
    "### This notebook:\n",
    "###### 1. Super-quick intro into BaBar DIRC subdetector\n",
    "###### 2. You create a WGAP-GP GAN\n",
    "\n",
    "###### BaBar DIRC:\n",
    "![image](https://www.slac.stanford.edu/BFROOT/www/Detector/DIRC/Gifs/NewDirc.gif)"
   ]
  },
  {
   "cell_type": "markdown",
   "metadata": {
    "colab_type": "text",
    "id": "hFBypeYCRvDp"
   },
   "source": [
    "Detection of Internally Reflected Cherenkov light - a particle identification detector in other words.\n",
    "We will only generate high-level observables (particle delta log-likelihoods (DLL)) that are obtained after the reconstruction.\n",
    "\n",
    "We want the generation to be conditional on full kinematics of event: energy, pseudorapidity and the distance between the particle track and DIRC bar side of signal particle. For the data-driven GAN this is just 11-D tabular data.\n",
    "\n",
    "Data was generated with FastDIRC modified to simulate two particle-events."
   ]
  },
  {
   "cell_type": "markdown",
   "metadata": {
    "colab_type": "text",
    "id": "6nPvUnOyRvDr"
   },
   "source": [
    "Эта тетрадка сделана так, чтобы быть и семинарской тетрадкой и домашкой.\n",
    "\n",
    "### Задача\n",
    "A couple of years ago this would have been a paper in a good journal, now should be doable in 20-60 minutes*:\n",
    "* after Denis Derkach formulated the problem and ёж did all the dirty work of getting training data\n",
    "\n",
    "Задача в общем виде выглядит как:\n",
    "\n",
    "Create a conditional **GAN NAME** to generate Y given X\n",
    "\n",
    "\n",
    "### Задачи:\n",
    "\n",
    "1. JS-GAN, 1.5 балла\n",
    "1. [Least Squares GAN](https://arxiv.org/abs/1611.04076), 1 балл\n",
    "2. WGAN, 1.5 балла\n",
    "3. WGAN-GP, 2 балла\n",
    "4. VAE, 1.5 балла\n",
    "5. Написать метрику с классфикатором, 2 балла\n",
    "6. Написать обьяснения, 0.5 балла\n",
    "7. Напишите любой достаточно сложный ган (например [отсюда](https://towardsdatascience.com/gan-objective-functions-gans-and-their-variations-ad77340bce3c)), получите до 5 бонусных баллов"
   ]
  },
  {
   "cell_type": "markdown",
   "metadata": {
    "colab_type": "text",
    "id": "-gImMzmFRvDs"
   },
   "source": [
    "# Данные\n",
    "\n",
    "Сюда можно не смотреть"
   ]
  },
  {
   "cell_type": "code",
   "execution_count": 0,
   "metadata": {
    "colab": {},
    "colab_type": "code",
    "id": "slt2n2_mRvDu"
   },
   "outputs": [],
   "source": [
    "import requests\n",
    "import re\n",
    "\n",
    "URL_RE = r\"http[s]?://(?:[a-zA-Z]|[0-9]|[$-_@.&+]|[!*\\(\\), ]|(?:%[0-9a-fA-F][0-9a-fA-F]))+\"\n",
    "url_scrabber = re.compile(r'\\s*<input type=\"hidden\" name=\"downloadURL\" '\n",
    "                          'value=\"(?P<download_url>' + URL_RE + ')\" '\n",
    "                          'id=\"downloadURL\">')\n",
    "\n",
    "def get_cernbox_direct_link(url):\n",
    "    guard_page = requests.get(url)\n",
    "    for line in guard_page.text.split('\\n'):\n",
    "        match = url_scrabber.match(line)\n",
    "        if match:\n",
    "            return match.group('download_url')\n",
    "    raise RuntimeError(\"downloadURL not found. Most likely case is a change in CERNBox\")\n"
   ]
  },
  {
   "cell_type": "code",
   "execution_count": 0,
   "metadata": {
    "colab": {
     "base_uri": "https://localhost:8080/",
     "height": 230
    },
    "colab_type": "code",
    "id": "GbfBoNT7RvDy",
    "outputId": "0f374695-fe8e-43ae-eaba-1f83577fd998"
   },
   "outputs": [
    {
     "name": "stdout",
     "output_type": "stream",
     "text": [
      "--2020-03-17 10:38:03--  https://cernbox.cern.ch/index.php/s/hWCh4umYQ0KShjW/download\n",
      "Resolving cernbox.cern.ch (cernbox.cern.ch)... 128.142.32.26, 128.142.32.38\n",
      "Connecting to cernbox.cern.ch (cernbox.cern.ch)|128.142.32.26|:443... connected.\n",
      "HTTP request sent, awaiting response... 200 OK\n",
      "Length: 388119563 (370M) [application/x-hdf]\n",
      "Saving to: ‘./kaons.hdf’\n",
      "\n",
      "./kaons.hdf         100%[===================>] 370.14M  7.04MB/s    in 58s     \n",
      "\n",
      "Last-modified header invalid -- time-stamp ignored.\n",
      "2020-03-17 10:39:05 (6.35 MB/s) - ‘./kaons.hdf’ saved [388119563/388119563]\n",
      "\n"
     ]
    }
   ],
   "source": [
    "data_url = get_cernbox_direct_link(\"https://cernbox.cern.ch/index.php/s/hWCh4umYQ0KShjW\")\n",
    "DATA_FILE_NAME = './kaons.hdf'\n",
    "!wget \"$data_url\" -O \"$DATA_FILE_NAME\" -nc\n"
   ]
  },
  {
   "cell_type": "code",
   "execution_count": 0,
   "metadata": {
    "colab": {},
    "colab_type": "code",
    "id": "6oL-wMoMRvD3"
   },
   "outputs": [],
   "source": [
    "%matplotlib inline\n",
    "\n",
    "import copy\n",
    "import matplotlib.pyplot as plt\n",
    "from IPython.display import clear_output\n",
    "import numpy as np\n",
    "import pandas as pd\n",
    "from scipy.stats import ks_2samp\n",
    "from sklearn.model_selection import train_test_split\n",
    "import torch\n",
    "import torch.nn as nn\n",
    "import torch.nn.functional as F\n",
    "import torch.utils.data\n"
   ]
  },
  {
   "cell_type": "code",
   "execution_count": 0,
   "metadata": {
    "colab": {
     "base_uri": "https://localhost:8080/",
     "height": 220
    },
    "colab_type": "code",
    "id": "LxypcrsURvD8",
    "outputId": "a4c60a89-90fc-498a-ae78-5d3da1b766c0"
   },
   "outputs": [
    {
     "data": {
      "text/html": [
       "<div>\n",
       "<style scoped>\n",
       "    .dataframe tbody tr th:only-of-type {\n",
       "        vertical-align: middle;\n",
       "    }\n",
       "\n",
       "    .dataframe tbody tr th {\n",
       "        vertical-align: top;\n",
       "    }\n",
       "\n",
       "    .dataframe thead th {\n",
       "        text-align: right;\n",
       "    }\n",
       "</style>\n",
       "<table border=\"1\" class=\"dataframe\">\n",
       "  <thead>\n",
       "    <tr style=\"text-align: right;\">\n",
       "      <th></th>\n",
       "      <th>dll_electron</th>\n",
       "      <th>dll_kaon</th>\n",
       "      <th>dll_muon</th>\n",
       "      <th>dll_proton</th>\n",
       "      <th>dll_bt</th>\n",
       "      <th>particle_one_energy</th>\n",
       "      <th>particle_two_energy</th>\n",
       "      <th>particle_one_eta</th>\n",
       "      <th>particle_two_eta</th>\n",
       "      <th>particle_one_x</th>\n",
       "      <th>particle_two_x</th>\n",
       "    </tr>\n",
       "  </thead>\n",
       "  <tbody>\n",
       "    <tr>\n",
       "      <th>48609366</th>\n",
       "      <td>-0.212708</td>\n",
       "      <td>2.314453</td>\n",
       "      <td>0.404724</td>\n",
       "      <td>-8.901489</td>\n",
       "      <td>-395.625427</td>\n",
       "      <td>5.761642</td>\n",
       "      <td>7.775553</td>\n",
       "      <td>-0.101042</td>\n",
       "      <td>-1.170546</td>\n",
       "      <td>4.806355</td>\n",
       "      <td>11.518691</td>\n",
       "    </tr>\n",
       "    <tr>\n",
       "      <th>85800802</th>\n",
       "      <td>-0.975586</td>\n",
       "      <td>7.093811</td>\n",
       "      <td>-0.254272</td>\n",
       "      <td>-118.109131</td>\n",
       "      <td>-125.633118</td>\n",
       "      <td>2.952495</td>\n",
       "      <td>4.515579</td>\n",
       "      <td>-1.027812</td>\n",
       "      <td>1.425283</td>\n",
       "      <td>8.347982</td>\n",
       "      <td>12.483961</td>\n",
       "    </tr>\n",
       "    <tr>\n",
       "      <th>48063890</th>\n",
       "      <td>1.210968</td>\n",
       "      <td>1.983414</td>\n",
       "      <td>-0.938339</td>\n",
       "      <td>-3.278305</td>\n",
       "      <td>-201.828049</td>\n",
       "      <td>5.667168</td>\n",
       "      <td>6.883764</td>\n",
       "      <td>0.243560</td>\n",
       "      <td>0.688672</td>\n",
       "      <td>9.765896</td>\n",
       "      <td>1.966456</td>\n",
       "    </tr>\n",
       "    <tr>\n",
       "      <th>6662551</th>\n",
       "      <td>-0.033142</td>\n",
       "      <td>1.237122</td>\n",
       "      <td>0.060791</td>\n",
       "      <td>0.109146</td>\n",
       "      <td>-196.228241</td>\n",
       "      <td>6.988772</td>\n",
       "      <td>4.271856</td>\n",
       "      <td>-1.019691</td>\n",
       "      <td>-0.693035</td>\n",
       "      <td>14.185906</td>\n",
       "      <td>15.605581</td>\n",
       "    </tr>\n",
       "    <tr>\n",
       "      <th>89492993</th>\n",
       "      <td>0.239120</td>\n",
       "      <td>3.052887</td>\n",
       "      <td>-0.522217</td>\n",
       "      <td>-22.034760</td>\n",
       "      <td>-268.287598</td>\n",
       "      <td>5.403506</td>\n",
       "      <td>8.019310</td>\n",
       "      <td>0.975898</td>\n",
       "      <td>1.015718</td>\n",
       "      <td>6.350332</td>\n",
       "      <td>4.286400</td>\n",
       "    </tr>\n",
       "  </tbody>\n",
       "</table>\n",
       "</div>"
      ],
      "text/plain": [
       "          dll_electron  dll_kaon  ...  particle_one_x  particle_two_x\n",
       "48609366     -0.212708  2.314453  ...        4.806355       11.518691\n",
       "85800802     -0.975586  7.093811  ...        8.347982       12.483961\n",
       "48063890      1.210968  1.983414  ...        9.765896        1.966456\n",
       "6662551      -0.033142  1.237122  ...       14.185906       15.605581\n",
       "89492993      0.239120  3.052887  ...        6.350332        4.286400\n",
       "\n",
       "[5 rows x 11 columns]"
      ]
     },
     "execution_count": 5,
     "metadata": {
      "tags": []
     },
     "output_type": "execute_result"
    }
   ],
   "source": [
    "data = pd.read_hdf(DATA_FILE_NAME)\n",
    "data.head()\n"
   ]
  },
  {
   "cell_type": "code",
   "execution_count": 0,
   "metadata": {
    "colab": {},
    "colab_type": "code",
    "id": "sql4UyqGRvD_"
   },
   "outputs": [],
   "source": [
    "X_COLUMNS = [\"particle_one_energy\",\n",
    "             \"particle_two_energy\",\n",
    "             \"particle_one_eta\",\n",
    "             \"particle_two_eta\",\n",
    "             \"particle_one_x\",\n",
    "             \"particle_two_x\"]\n",
    "Y_COLUMNS = [\"dll_electron\",\n",
    "             \"dll_kaon\",\n",
    "             \"dll_muon\",\n",
    "             \"dll_proton\",\n",
    "             \"dll_bt\"]\n",
    "assert Y_COLUMNS + X_COLUMNS == list(data.columns)\n"
   ]
  },
  {
   "cell_type": "code",
   "execution_count": 0,
   "metadata": {
    "colab": {
     "base_uri": "https://localhost:8080/",
     "height": 276
    },
    "colab_type": "code",
    "id": "8vDMHDLsRvED",
    "outputId": "296ad894-7adb-4c97-a06e-d984abdc6c49"
   },
   "outputs": [
    {
     "data": {
      "image/png": "[encoded data removed]",
      "text/plain": [
       "<Figure size 432x288 with 1 Axes>"
      ]
     },
     "metadata": {
      "tags": []
     },
     "output_type": "display_data"
    }
   ],
   "source": [
    "from sklearn.preprocessing import QuantileTransformer\n",
    "# Please use the sklearn.preprocessing.QuantileTransformer to transform each feature\n",
    "# into a Gaussian\n",
    "plt.hist(data.values[:, 1], bins=100);\n",
    "\n"
   ]
  },
  {
   "cell_type": "code",
   "execution_count": 0,
   "metadata": {
    "colab": {},
    "colab_type": "code",
    "id": "eMafp9_2RvEG"
   },
   "outputs": [],
   "source": [
    "transformer = QuantileTransformer(1000,'normal')\n",
    "data_transformed = transformer.fit_transform(data)"
   ]
  },
  {
   "cell_type": "markdown",
   "metadata": {
    "colab_type": "text",
    "id": "XtPpKkwyRvEK"
   },
   "source": [
    "Результат должен выглядеть как-то так:\n",
    "![image.png](https://github.com/yandexdataschool/mlhep2019/raw/master/notebooks/day-6/gauss.png)"
   ]
  },
  {
   "cell_type": "code",
   "execution_count": 0,
   "metadata": {
    "colab": {
     "base_uri": "https://localhost:8080/",
     "height": 265
    },
    "colab_type": "code",
    "id": "vo1xsK2bRvEL",
    "outputId": "b9aba57e-c069-4256-a0c8-3ff5c10bca26"
   },
   "outputs": [
    {
     "data": {
      "image/png": "[encoded data removed]",
      "text/plain": [
       "<Figure size 432x288 with 1 Axes>"
      ]
     },
     "metadata": {
      "tags": []
     },
     "output_type": "display_data"
    }
   ],
   "source": [
    "plt.hist(data_transformed[:, 0], bins=100);\n"
   ]
  },
  {
   "cell_type": "code",
   "execution_count": 0,
   "metadata": {
    "colab": {},
    "colab_type": "code",
    "id": "YmQcKG6kRvEO"
   },
   "outputs": [],
   "source": [
    "train, test = train_test_split(data_transformed, test_size=0.01)\n",
    "LATENT_DIM = 4 # Размерность \"шума\"\n"
   ]
  },
  {
   "cell_type": "markdown",
   "metadata": {
    "colab_type": "text",
    "id": "T3kHs4stRvER"
   },
   "source": [
    "Здесь нашим генератором и дискриминатором может быть любая полносвязная сеть.\n",
    "\n",
    "По желанию можно использовать шедулер :)"
   ]
  },
  {
   "cell_type": "code",
   "execution_count": 0,
   "metadata": {
    "colab": {},
    "colab_type": "code",
    "id": "r-E82lxdfN0z"
   },
   "outputs": [],
   "source": [
    "def get_gen(sz=1000,lr=0.01, gamma = 0.999, activation = nn.LeakyReLU(0.2)):\n",
    "    gen = nn.Sequential(nn.Linear(LATENT_DIM + len(X_COLUMNS), 256),\n",
    "    #nn.LeakyReLU(0.2),\n",
    "    #nn.ReLU(),\n",
    "    activation,\n",
    "    nn.Linear(256,512),\n",
    "    #nn.LeakyReLU(0.2),\n",
    "    #nn.ReLU(),\n",
    "    activation,\n",
    "    nn.Linear(512,256),\n",
    "    #nn.LeakyReLU(0.2),\n",
    "    #nn.ReLU(),\n",
    "    activation,\n",
    "    nn.Linear(256,len(Y_COLUMNS))).cuda()\n",
    "\n",
    "    gen_opt = torch.optim.RMSprop(gen.parameters(), lr=lr)\n",
    "    gen_scheduler = torch.optim.lr_scheduler.StepLR(gen_opt,step_size=sz, gamma=gamma)\n",
    "    assert gen[0].in_features == LATENT_DIM + len(X_COLUMNS)\n",
    "    assert gen[-1].out_features == len(Y_COLUMNS)\n",
    "    return gen, gen_opt, gen_scheduler"
   ]
  },
  {
   "cell_type": "code",
   "execution_count": 0,
   "metadata": {
    "colab": {},
    "colab_type": "code",
    "id": "Pm67WYrrRvEV"
   },
   "outputs": [],
   "source": [
    "def get_disc(sz=1000, lr=0.01,  gamma = 0.1, activation = nn.LeakyReLU(0.2), hid_dim = 1024):\n",
    "    disc = nn.Sequential(\n",
    "    nn.Linear(len(X_COLUMNS) + len(Y_COLUMNS), hid_dim),\n",
    "    #nn.LeakyReLU(0.2),\n",
    "    #nn.ReLU(),\n",
    "    activation,\n",
    "    nn.Linear(hid_dim,hid_dim),\n",
    "    #nn.LeakyReLU(0.2),\n",
    "    #nn.ReLU(),\n",
    "    activation,\n",
    "    nn.Linear(hid_dim,hid_dim),\n",
    "    #nn.LeakyReLU(0.2),\n",
    "    #nn.ReLU(),\n",
    "    activation,\n",
    "    nn.Linear(hid_dim,1)).cuda()\n",
    "    disc_opt = torch.optim.RMSprop(disc.parameters(), lr=lr)\n",
    "    disc_scheduler = torch.optim.lr_scheduler.StepLR(disc_opt,step_size= sz, gamma = gamma)\n",
    "\n",
    "\n",
    "    assert disc[0].in_features == data.shape[1]\n",
    "    assert disc[-1].out_features == 1\n",
    "    return disc, disc_opt, disc_scheduler"
   ]
  },
  {
   "cell_type": "code",
   "execution_count": 0,
   "metadata": {
    "colab": {},
    "colab_type": "code",
    "id": "SZKY4sZWRvEa"
   },
   "outputs": [],
   "source": [
    "TRAIN_BATCH_SIZE = 512\n",
    "\n",
    "def sample_real_data(batch_size):\n",
    "    \"\"\"\n",
    "    Inifintly repeats and shuffles the train dataset, outputs the\n",
    "    result in delicious batches.\n",
    "    \"\"\"\n",
    "    while True:\n",
    "        dataloader = torch.utils.data.DataLoader(train,\n",
    "                                                 batch_size=batch_size,\n",
    "                                                 shuffle=True, drop_last=True)\n",
    "        for batch in dataloader:\n",
    "            yield batch\n",
    "            \n",
    "infinite_data = sample_real_data(TRAIN_BATCH_SIZE)\n"
   ]
  },
  {
   "cell_type": "code",
   "execution_count": 0,
   "metadata": {
    "colab": {},
    "colab_type": "code",
    "id": "SthVz4UwRvEd"
   },
   "outputs": [],
   "source": [
    "# Эта функция семплит данные из вашего генератора\n",
    "# Принимает на вход x (condition) \n",
    "# Возвращает concat(gen_y, x)\n",
    "\n",
    "def sample_gen_data(x):\n",
    "    noise = torch.randn((x.shape[0],LATENT_DIM)).cuda()\n",
    "    gen_input = torch.cat((x,noise),1)\n",
    "    gen_y = gen(gen_input)\n",
    "    return torch.cat((gen_y,x),1)\n"
   ]
  },
  {
   "cell_type": "code",
   "execution_count": 0,
   "metadata": {
    "colab": {},
    "colab_type": "code",
    "id": "EvOfGt4cRvEk"
   },
   "outputs": [],
   "source": [
    "# https://github.com/caogang/wgan-gp/blob/master/gan_mnist.py\n",
    "\n",
    "def calc_gradient_penalty_classic(critic:torch.nn.Module,\n",
    "                                  real_data:torch.Tensor,\n",
    "                                  fake_data:torch.Tensor):\n",
    "    \"\"\"\n",
    "    Computes Gradient Penalty in random interpolates, in its classic form:\n",
    "    (|∇(D(x)|^2 - 1)^2, x is interpolated between a real and a generated sample\n",
    "    Args:\n",
    "      critic: a torch model which gradient needs to be penalised\n",
    "      real_data[batch_size, n_features]: a sample of real data\n",
    "      fake_data[batch_size, n_features]: a sample of fake data\n",
    "    Returns:\n",
    "      torch.Tensor, scalar, gradient penalty evalute\n",
    "    \"\"\"\n",
    "    assert real_data.shape == fake_data.shape\n",
    "    alpha = torch.rand(real_data.shape[0], 1)\n",
    "    alpha = alpha.expand(real_data.size()).cuda()\n",
    "\n",
    "    interpolates = (alpha * real_data + ((1 - alpha) * fake_data)).cuda()\n",
    "    interpolates = torch.autograd.Variable(interpolates, requires_grad=True)\n",
    "\n",
    "    disc_interpolates = critic(interpolates)\n",
    "\n",
    "    gradients = torch.autograd.grad(\n",
    "        outputs=disc_interpolates, inputs=interpolates,\n",
    "        grad_outputs=torch.ones(disc_interpolates.size(), device=\"cuda\"),\n",
    "        create_graph=True, retain_graph=True, only_inputs=True)[0]\n",
    "\n",
    "    gradient_penalty = ((gradients.norm(2, dim=1) - 1) ** 2).mean()\n",
    "    return gradient_penalty\n"
   ]
  },
  {
   "cell_type": "code",
   "execution_count": 0,
   "metadata": {
    "colab": {},
    "colab_type": "code",
    "id": "ww5N4y5sRvEm"
   },
   "outputs": [],
   "source": [
    "LAMBDA = 10. # for gradient-penalty\n",
    "def train_disc(gan_type):\n",
    "    \"\"\"\n",
    "    Trains the discriminator for one step. Please note\n",
    "    this is not a pure function, it captutes the majority of variables\n",
    "    from the context.\n",
    "    \"\"\"\n",
    "    real_data = next(infinite_data).to(\"cuda\")\n",
    "    x_gen = next(infinite_data)[:, len(Y_COLUMNS):].to(\"cuda\")\n",
    "    gen_data = sample_gen_data(x_gen)\n",
    "    \n",
    "    if gan_type == \"JS\":\n",
    "        err_real = F.binary_cross_entropy_with_logits(disc(real_data),torch.ones(TRAIN_BATCH_SIZE,1).cuda())\n",
    "        err_fake = F.binary_cross_entropy_with_logits(disc(gen_data),torch.zeros(TRAIN_BATCH_SIZE,1).cuda())\n",
    "        disc_loss = err_real + err_fake # YOUR CODE\n",
    "    elif gan_type == \"WGAN\":\n",
    "        disc_loss = - torch.mean(disc(real_data) - disc(gen_data))\n",
    "    elif gan_type == \"LSGAN\":\n",
    "        disc_loss = torch.mean((disc(real_data) - torch.ones(TRAIN_BATCH_SIZE,1).cuda())**2 +  disc(gen_data)**2) # YOUR CODE\n",
    "    elif gan_type == \"WGAN-GP\":\n",
    "        disc_loss = torch.mean(disc(gen_data) - disc(real_data))   + LAMBDA*calc_gradient_penalty_classic(disc,real_data,gen_data)\n",
    "    elif gan_type == \"EBGAN\":\n",
    "        disc_loss =  disc(real_data)[0] + F.relu(10 - disc(gen_data)[0])\n",
    "    else:\n",
    "        raise ValueError(\"Unknown GAN type. Valid ones are: JS, WGAN-GP, WGAN, LSGAN\")\n",
    "    \n",
    "    disc_opt.zero_grad()\n",
    "    disc_loss.backward()\n",
    "    disc_opt.step()\n",
    "    if gan_type == \"WGAN\":\n",
    "      #weight clipping (doesn't work very good now, maybe it is worth to try changing range)\n",
    "      for p in disc.parameters():\n",
    "        p.data.clamp_(-0.05, 0.05)\n",
    "    return disc_loss\n"
   ]
  },
  {
   "cell_type": "code",
   "execution_count": 0,
   "metadata": {
    "colab": {},
    "colab_type": "code",
    "id": "NiOp-xWZOi-4"
   },
   "outputs": [],
   "source": [
    "def pull_away_term(x):\n",
    "  x = F.normalize(x,dim = 1)\n",
    "  cov = x @ x.t()\n",
    "  cov = cov - torch.eye(cov.shape[0], device= \"cuda\") * cov\n",
    "  return torch.sum(cov**2) / (cov.shape[0]*(cov.shape[0] - 1))"
   ]
  },
  {
   "cell_type": "code",
   "execution_count": 0,
   "metadata": {
    "colab": {},
    "colab_type": "code",
    "id": "5ZvblzLeRvEp"
   },
   "outputs": [],
   "source": [
    "def train_gen(gan_type):\n",
    "    \"\"\"Trains generator for one step\"\"\"\n",
    "    real_data_x = next(infinite_data)[:, len(Y_COLUMNS):].to(\"cuda\")\n",
    "    \n",
    "    gen_data = sample_gen_data(real_data_x)\n",
    "    \n",
    "    if gan_type == \"JS\":\n",
    "        gen_loss = F.binary_cross_entropy_with_logits(disc(gen_data),torch.ones(TRAIN_BATCH_SIZE,1).cuda()) # YOUR CODE\n",
    "    elif gan_type == \"WGAN\":\n",
    "        gen_loss =  -disc(gen_data).mean() # YOUR CODE\n",
    "    elif gan_type == \"LSGAN\":\n",
    "        gen_loss = torch.mean((disc(gen_data) - torch.ones(TRAIN_BATCH_SIZE,1).cuda())**2) # YOUR CODE\n",
    "    elif gan_type == \"WGAN-GP\":\n",
    "        gen_loss = -disc(gen_data).mean() # YOUR CODE\n",
    "    elif gan_type == \"EBGAN\":\n",
    "        energy, code = disc(gen_data) \n",
    "        gen_loss = energy + pull_away_term(code)\n",
    "\n",
    "    else:\n",
    "        raise ValueError(\"Unknown GAN type. Valid ones are: JS, WGAN-GP, WGAN, LSGAN\")\n",
    "        \n",
    "    gen_opt.zero_grad()\n",
    "    gen_loss.backward()\n",
    "    gen_opt.step()\n",
    "    return gen_loss"
   ]
  },
  {
   "cell_type": "code",
   "execution_count": 0,
   "metadata": {
    "colab": {},
    "colab_type": "code",
    "id": "wKbXtA0ERvE0"
   },
   "outputs": [],
   "source": [
    "DISCRIMINATOR_ITERATIONS_PER_GENEREATOR = 5\n",
    "VALIDATION_INTERVAL = 256\n",
    "HIST_BINS=100\n",
    "DATA_HIST_RANGE=[-5, 5]"
   ]
  },
  {
   "cell_type": "code",
   "execution_count": 0,
   "metadata": {
    "colab": {},
    "colab_type": "code",
    "id": "VNf5fH5xRvE2"
   },
   "outputs": [],
   "source": [
    "data_linspace_np = np.linspace(0, 10, num=256, dtype=np.float32)\n",
    "data_linspace_torch = torch.from_numpy(data_linspace_np)[:, None].cuda()\n",
    "validation_data = torch.from_numpy(test).cuda()\n",
    "validation_data_np = test\n",
    "validation_x = validation_data[:, len(Y_COLUMNS):]"
   ]
  },
  {
   "cell_type": "code",
   "execution_count": 0,
   "metadata": {
    "colab": {
     "base_uri": "https://localhost:8080/",
     "height": 35
    },
    "colab_type": "code",
    "id": "-VacgPDOYhkC",
    "outputId": "3cc964e5-1456-4c51-c797-c248037e88ad"
   },
   "outputs": [
    {
     "data": {
      "text/plain": [
       "{'divide': 'warn', 'invalid': 'warn', 'over': 'warn', 'under': 'ignore'}"
      ]
     },
     "execution_count": 28,
     "metadata": {
      "tags": []
     },
     "output_type": "execute_result"
    }
   ],
   "source": [
    "np.seterr(divide='ignore', invalid='ignore')"
   ]
  },
  {
   "cell_type": "code",
   "execution_count": 0,
   "metadata": {
    "colab": {},
    "colab_type": "code",
    "id": "pQ9Pw1gqHXay"
   },
   "outputs": [],
   "source": [
    "VALIDATION_INTERVAL = 256\n",
    "HIST_BINS=100\n",
    "DATA_HIST_RANGE=[-5, 5]\n",
    "DISCRIMINATOR_ITERATIONS_PER_STEP = 5\n",
    "GENERATOR_ITERATIONS_PER_STEP = 1"
   ]
  },
  {
   "cell_type": "code",
   "execution_count": 0,
   "metadata": {
    "colab": {},
    "colab_type": "code",
    "id": "Npt_o7iooffh"
   },
   "outputs": [],
   "source": [
    "def train_loop(gan_type = \"WGAN\", epochs = 5000):\n",
    "    ks_result_best = 1.\n",
    "    for i in range(epochs):\n",
    "        for _ in range(DISCRIMINATOR_ITERATIONS_PER_STEP):\n",
    "            disc_loss_this_iter = train_disc(gan_type)\n",
    "        for _ in range(GENERATOR_ITERATIONS_PER_STEP):\n",
    "            gen_loss_this_iter = train_gen(gan_type)\n",
    "        experiment.log_metric('loss/discriminator', disc_loss_this_iter.item(), step=i)\n",
    "        experiment.log_metric('loss/generator', gen_loss_this_iter.item(), step=i)\n",
    "        gen_scheduler.step()\n",
    "        if gan_type != \"EBGAN\":\n",
    "          disc_scheduler.step()\n",
    "\n",
    "        if i % VALIDATION_INTERVAL == 0:\n",
    "            clear_output(True)        \n",
    "            validation_generated = sample_gen_data(validation_x)\n",
    "            validation_generated_np = validation_generated.data.cpu().numpy()\n",
    "\n",
    "            fig, axes_list = plt.subplots(ncols=5, figsize=[6*len(Y_COLUMNS), 6])\n",
    "            ks_sum = 0.\n",
    "            for index, ax in enumerate(axes_list):\n",
    "                ax.hist(validation_generated_np[:, index], range=DATA_HIST_RANGE,\n",
    "                      alpha=0.5, density=True, label='Generated', bins=HIST_BINS)\n",
    "                ax.hist(validation_data_np[:, index], range=DATA_HIST_RANGE,\n",
    "                      alpha=0.5, density=True, label='Real', bins=HIST_BINS)\n",
    "                ax.set_xlabel(data.columns[index])\n",
    "                ks_result = ks_2samp(validation_generated_np[:, index],\n",
    "                                        validation_data_np[:, index])\n",
    "                ks_sum += ks_result.statistic\n",
    "                ax.set_title(\"KS stat = {:.4f}; p-value = {:.4E}\".format(*tuple(ks_result)))\n",
    "            if ks_sum/5. < ks_result_best:\n",
    "                best_model = copy.deepcopy(gen)\n",
    "                ks_result_best = ks_sum/5.\n",
    "            fig.suptitle(\"Iteration {}\".format(i))\n",
    "            plt.show()\n",
    "    return best_model"
   ]
  },
  {
   "cell_type": "markdown",
   "metadata": {
    "colab_type": "text",
    "id": "QMAAGHeclsjh"
   },
   "source": [
    "WGAN-GP"
   ]
  },
  {
   "cell_type": "code",
   "execution_count": 0,
   "metadata": {
    "colab": {
     "base_uri": "https://localhost:8080/",
     "height": 319
    },
    "colab_type": "code",
    "id": "-FkUdrTVvxZp",
    "outputId": "0afe6b88-8976-4793-fc6f-0bea625e954a"
   },
   "outputs": [
    {
     "name": "stderr",
     "output_type": "stream",
     "text": [
      "COMET INFO: ----------------------------\n",
      "COMET INFO: Comet.ml Experiment Summary:\n",
      "COMET INFO:   Data:\n",
      "COMET INFO:     url: https://www.comet.ml/torch-unfunctional/hwgans/426c58b3d33a45d3bf5cf652105f0be3\n",
      "COMET INFO:   Metrics [count] (min, max):\n",
      "COMET INFO:     sys.cpu.percent.01       : (33.2, 33.2)\n",
      "COMET INFO:     sys.cpu.percent.02       : (49.8, 49.8)\n",
      "COMET INFO:     sys.cpu.percent.avg      : (41.5, 41.5)\n",
      "COMET INFO:     sys.gpu.0.free_memory    : (9106685952.0, 9106685952.0)\n",
      "COMET INFO:     sys.gpu.0.gpu_utilization: (0.0, 0.0)\n",
      "COMET INFO:     sys.gpu.0.total_memory   : (11996954624.0, 11996954624.0)\n",
      "COMET INFO:     sys.gpu.0.used_memory    : (2890268672.0, 2890268672.0)\n",
      "COMET INFO:     sys.ram.total            : (13655232512.0, 13655232512.0)\n",
      "COMET INFO:     sys.ram.used             : (4111486976.0, 4111486976.0)\n",
      "COMET INFO: ----------------------------\n",
      "COMET INFO: Experiment is live on comet.ml https://www.comet.ml/torch-unfunctional/hwgans/075b7ecdd8af46fc93ffe51bd77decb2\n",
      "\n"
     ]
    }
   ],
   "source": [
    "LAMBDA = 5.\n",
    "DISCRIMINATOR_ITERATIONS_PER_STEP = 15\n",
    "GENERATOR_ITERATIONS_PER_STEP = 1\n",
    "LATENT_DIM = 2\n",
    "gen, gen_opt, gen_scheduler = get_gen(sz= 1000, gamma = 0.1)\n",
    "disc, disc_opt, disc_scheduler = get_disc(sz = 1000, hid_dim= 512)\n",
    "experiment = Experiment(api_key=\"dnwaE7rvtITtxwnj54lNinijy\", project_name=\"HWGANs\")# YOUR INFO"
   ]
  },
  {
   "cell_type": "code",
   "execution_count": 0,
   "metadata": {
    "colab": {
     "base_uri": "https://localhost:8080/",
     "height": 452
    },
    "colab_type": "code",
    "id": "4aig8mhDo2Wu",
    "outputId": "873efbef-d60b-42f5-8ffa-86fa36247a3f"
   },
   "outputs": [
    {
     "data": {
      "image/png": "[encoded data removed]",
      "text/plain": [
       "<Figure size 2160x432 with 5 Axes>"
      ]
     },
     "metadata": {
      "tags": []
     },
     "output_type": "display_data"
    }
   ],
   "source": [
    "wgan_gp = train_loop(gan_type=\"WGAN-GP\", epochs = 5000)"
   ]
  },
  {
   "cell_type": "markdown",
   "metadata": {
    "colab_type": "text",
    "id": "1zQpojgMlxVU"
   },
   "source": [
    "WGAN"
   ]
  },
  {
   "cell_type": "code",
   "execution_count": 0,
   "metadata": {
    "colab": {
     "base_uri": "https://localhost:8080/",
     "height": 372
    },
    "colab_type": "code",
    "id": "DSZkxy6wwHqU",
    "outputId": "b72df676-590e-4f7f-c8f8-c13f27f2b714"
   },
   "outputs": [
    {
     "name": "stderr",
     "output_type": "stream",
     "text": [
      "COMET INFO: ----------------------------\n",
      "COMET INFO: Comet.ml Experiment Summary:\n",
      "COMET INFO:   Data:\n",
      "COMET INFO:     url: https://www.comet.ml/torch-unfunctional/hwgans/d67d2e588a244ec8bda6a744df4237f8\n",
      "COMET INFO:   Metrics [count] (min, max):\n",
      "COMET INFO:     loss [3000]                  : (-1829.94873046875, 163.79656982421875)\n",
      "COMET INFO:     loss/discriminator [5000]    : (-1859.728515625, 8.45644474029541)\n",
      "COMET INFO:     loss/generator [5000]        : (-123.32859802246094, 1917.397705078125)\n",
      "COMET INFO:     sys.cpu.percent.01 [3]       : (36.8, 62.6)\n",
      "COMET INFO:     sys.cpu.percent.02 [3]       : (38.4, 47.6)\n",
      "COMET INFO:     sys.cpu.percent.avg [3]      : (40.75, 52.0)\n",
      "COMET INFO:     sys.gpu.0.free_memory [3]    : (13927055360.0, 13927055360.0)\n",
      "COMET INFO:     sys.gpu.0.gpu_utilization [3]: (0.0, 24.0)\n",
      "COMET INFO:     sys.gpu.0.total_memory       : (17071734784.0, 17071734784.0)\n",
      "COMET INFO:     sys.gpu.0.used_memory [3]    : (3144679424.0, 3144679424.0)\n",
      "COMET INFO:     sys.ram.total [3]            : (13655232512.0, 13655232512.0)\n",
      "COMET INFO:     sys.ram.used [3]             : (5023211520.0, 5026279424.0)\n",
      "COMET INFO: ----------------------------\n",
      "COMET INFO: Experiment is live on comet.ml https://www.comet.ml/torch-unfunctional/hwgans/9bc8f7f227a74b92bdf4d65e1f8ef2c0\n",
      "\n"
     ]
    }
   ],
   "source": [
    "DISCRIMINATOR_ITERATIONS_PER_STEP = 15\n",
    "GENERATOR_ITERATIONS_PER_STEP = 1\n",
    "LATENT_DIM = 2\n",
    "gen, gen_opt, gen_scheduler = get_gen(sz= 1, gamma = 0.995, lr = 0.01)\n",
    "disc, disc_opt, disc_scheduler = get_disc(sz = 1, gamma = 0.995, activation= nn.ReLU(), hid_dim = 512)\n",
    "experiment = Experiment(api_key=\"dnwaE7rvtITtxwnj54lNinijy\", project_name=\"HWGANs\")# YOUR INFO"
   ]
  },
  {
   "cell_type": "code",
   "execution_count": 0,
   "metadata": {
    "colab": {
     "base_uri": "https://localhost:8080/",
     "height": 452
    },
    "colab_type": "code",
    "id": "B2w3lmUBvSDt",
    "outputId": "9a1ccce7-c797-4528-8e6f-91ac78c4674b"
   },
   "outputs": [
    {
     "data": {
      "image/png": "[encoded data removed]",
      "text/plain": [
       "<Figure size 2160x432 with 5 Axes>"
      ]
     },
     "metadata": {
      "tags": []
     },
     "output_type": "display_data"
    }
   ],
   "source": [
    "wgan = train_loop(epochs=5000)"
   ]
  },
  {
   "cell_type": "markdown",
   "metadata": {
    "colab_type": "text",
    "id": "-dwoK7fMl37V"
   },
   "source": [
    "LSGAN"
   ]
  },
  {
   "cell_type": "code",
   "execution_count": 0,
   "metadata": {
    "colab": {
     "base_uri": "https://localhost:8080/",
     "height": 372
    },
    "colab_type": "code",
    "id": "YBUic2jCxXJu",
    "outputId": "7b13a729-c283-465d-d793-4c59de673ebd"
   },
   "outputs": [
    {
     "name": "stderr",
     "output_type": "stream",
     "text": [
      "COMET INFO: ----------------------------\n",
      "COMET INFO: Comet.ml Experiment Summary:\n",
      "COMET INFO:   Data:\n",
      "COMET INFO:     url: https://www.comet.ml/torch-unfunctional/hwgans/6bf1c50e5b8b41b88ce10bff48111742\n",
      "COMET INFO:   Metrics [count] (min, max):\n",
      "COMET INFO:     loss [11000]                  : (0.11529096215963364, 5266.9033203125)\n",
      "COMET INFO:     loss/discriminator [10000]    : (0.11172151565551758, 20.239192962646484)\n",
      "COMET INFO:     loss/generator [10000]        : (1.8237354755401611, 66769.296875)\n",
      "COMET INFO:     sys.cpu.percent.01 [33]       : (1.3, 63.2)\n",
      "COMET INFO:     sys.cpu.percent.02 [33]       : (1.1, 66.7)\n",
      "COMET INFO:     sys.cpu.percent.avg [33]      : (1.2000000000000002, 51.900000000000006)\n",
      "COMET INFO:     sys.gpu.0.free_memory [38]    : (9097248768.0, 9097248768.0)\n",
      "COMET INFO:     sys.gpu.0.gpu_utilization [38]: (0.0, 49.0)\n",
      "COMET INFO:     sys.gpu.0.total_memory        : (11996954624.0, 11996954624.0)\n",
      "COMET INFO:     sys.gpu.0.used_memory [38]    : (2899705856.0, 2899705856.0)\n",
      "COMET INFO:     sys.ram.total [33]            : (13655232512.0, 13655232512.0)\n",
      "COMET INFO:     sys.ram.used [33]             : (4535525376.0, 4547690496.0)\n",
      "COMET INFO: ----------------------------\n",
      "COMET INFO: Experiment is live on comet.ml https://www.comet.ml/torch-unfunctional/hwgans/804e8b96c9bb4631a5abd41c0cecd7bf\n",
      "\n"
     ]
    }
   ],
   "source": [
    "DISCRIMINATOR_ITERATIONS_PER_STEP = 1\n",
    "GENERATOR_ITERATIONS_PER_STEP = 15\n",
    "VALIDATION_INTERVAL = 256\n",
    "HIST_BINS=100\n",
    "DATA_HIST_RANGE=[-5, 5]\n",
    "LATENT_DIM = 2\n",
    "MARGIN_D = 200\n",
    "MARGIN_G = 15\n",
    "gen, gen_opt, gen_scheduler = get_gen(sz= 1, gamma = 0.995, lr = 0.01, activation=nn.ReLU())\n",
    "disc, disc_opt, disc_scheduler = get_disc(sz = 1000,activation=nn.ReLU())\n",
    "experiment = Experiment(api_key=\"dnwaE7rvtITtxwnj54lNinijy\", project_name=\"HWGANs\")# YOUR INFO"
   ]
  },
  {
   "cell_type": "code",
   "execution_count": 0,
   "metadata": {
    "colab": {
     "base_uri": "https://localhost:8080/",
     "height": 452
    },
    "colab_type": "code",
    "id": "Q-tcIen-10q7",
    "outputId": "ebf0b005-8c56-461b-eed2-9aeecc62eb69"
   },
   "outputs": [
    {
     "data": {
      "image/png": "[encoded data removed]",
      "text/plain": [
       "<Figure size 2160x432 with 5 Axes>"
      ]
     },
     "metadata": {
      "tags": []
     },
     "output_type": "display_data"
    }
   ],
   "source": [
    "lsgan = train_loop(epochs = 5000, gan_type = \"LSGAN\")\n"
   ]
  },
  {
   "cell_type": "markdown",
   "metadata": {
    "colab_type": "text",
    "id": "-9NgOCwRl8D8"
   },
   "source": [
    "JSGAN"
   ]
  },
  {
   "cell_type": "code",
   "execution_count": 0,
   "metadata": {
    "colab": {
     "base_uri": "https://localhost:8080/",
     "height": 372
    },
    "colab_type": "code",
    "id": "JkJHMQ6XcCq0",
    "outputId": "3f8e4339-10e0-4bc5-a3f5-fff6313e9d57"
   },
   "outputs": [
    {
     "name": "stderr",
     "output_type": "stream",
     "text": [
      "COMET INFO: ----------------------------\n",
      "COMET INFO: Comet.ml Experiment Summary:\n",
      "COMET INFO:   Data:\n",
      "COMET INFO:     url: https://www.comet.ml/torch-unfunctional/hwgans/9bc8f7f227a74b92bdf4d65e1f8ef2c0\n",
      "COMET INFO:   Metrics [count] (min, max):\n",
      "COMET INFO:     loss [8000]                  : (-695.7998046875, 13.633060455322266)\n",
      "COMET INFO:     loss/discriminator [5000]    : (-650.3017578125, 0.5214444398880005)\n",
      "COMET INFO:     loss/generator [5000]        : (-130.48382568359375, 584.6672973632812)\n",
      "COMET INFO:     sys.cpu.percent.01 [8]       : (9.4, 55.7)\n",
      "COMET INFO:     sys.cpu.percent.02 [8]       : (6.0, 59.1)\n",
      "COMET INFO:     sys.cpu.percent.avg [8]      : (7.7, 51.6)\n",
      "COMET INFO:     sys.gpu.0.free_memory [9]    : (13927055360.0, 13927055360.0)\n",
      "COMET INFO:     sys.gpu.0.gpu_utilization [9]: (0.0, 24.0)\n",
      "COMET INFO:     sys.gpu.0.total_memory       : (17071734784.0, 17071734784.0)\n",
      "COMET INFO:     sys.gpu.0.used_memory [9]    : (3144679424.0, 3144679424.0)\n",
      "COMET INFO:     sys.ram.total [8]            : (13655232512.0, 13655232512.0)\n",
      "COMET INFO:     sys.ram.used [8]             : (5023719424.0, 5027311616.0)\n",
      "COMET INFO: ----------------------------\n",
      "COMET INFO: Experiment is live on comet.ml https://www.comet.ml/torch-unfunctional/hwgans/1c1eb864cb134ed8a457e9e40ea66c65\n",
      "\n"
     ]
    }
   ],
   "source": [
    "DISCRIMINATOR_ITERATIONS_PER_STEP = 1\n",
    "GENERATOR_ITERATIONS_PER_STEP = 10\n",
    "LATENT_DIM = 2\n",
    "gen, gen_opt, gen_scheduler = get_gen(sz= 500, gamma = 0.1)\n",
    "disc, disc_opt, disc_scheduler = get_disc(sz = 1000, hid_dim= 128)\n",
    "experiment = Experiment(api_key=\"dnwaE7rvtITtxwnj54lNinijy\", project_name=\"HWGANs\")# YOUR INFO"
   ]
  },
  {
   "cell_type": "code",
   "execution_count": 0,
   "metadata": {
    "colab": {
     "base_uri": "https://localhost:8080/",
     "height": 452
    },
    "colab_type": "code",
    "id": "BvSNtJu3cHjr",
    "outputId": "e1b00665-e31c-490b-c6d4-f6b32a9a4930"
   },
   "outputs": [
    {
     "data": {
      "image/png": "[encoded data removed]",
      "text/plain": [
       "<Figure size 2160x432 with 5 Axes>"
      ]
     },
     "metadata": {
      "tags": []
     },
     "output_type": "display_data"
    }
   ],
   "source": [
    "jsgan = train_loop(epochs = 5000, gan_type = \"JS\")"
   ]
  },
  {
   "cell_type": "markdown",
   "metadata": {
    "colab_type": "text",
    "id": "I2v7g_UumjbA"
   },
   "source": [
    "VAE"
   ]
  },
  {
   "cell_type": "code",
   "execution_count": 0,
   "metadata": {
    "colab": {},
    "colab_type": "code",
    "id": "3SSPHYKmmSFT"
   },
   "outputs": [],
   "source": [
    "class VAE(nn.Module):\n",
    "    def __init__(self):\n",
    "        super(VAE, self).__init__()\n",
    "        # Encoder\n",
    "        self.encoder = nn.Sequential(\n",
    "        nn.Linear(len(X_COLUMNS) + len(Y_COLUMNS), 512, bias = True),\n",
    "        #nn.BatchNorm1d(512),\n",
    "        #nn.LeakyReLU(0.2),\n",
    "        nn.ReLU(),                             \n",
    "        nn.Linear(512,512, bias = True),\n",
    "        #nn.BatchNorm1d(512),\n",
    "        #nn.LeakyReLU(0.2),\n",
    "        nn.ReLU(),                             \n",
    "        nn.Linear(512,256, bias = True),\n",
    "        nn.ReLU())\n",
    "        self.mu = nn.Linear(256,LATENT_DIM)\n",
    "        self.logvar =nn.Linear(256,LATENT_DIM)\n",
    "        \n",
    "        \n",
    "        # Decoder\n",
    "        self.decoder = nn.Sequential(nn.Linear(LATENT_DIM + len(X_COLUMNS), 512, bias = True),\n",
    "        #nn.BatchNorm1d(512),\n",
    "        #nn.LeakyReLU(0.2),\n",
    "        nn.ReLU(),                             \n",
    "        nn.Linear(512,256, bias = True),\n",
    "        #nn.BatchNorm1d(256),                            \n",
    "        #nn.LeakyReLU(0.2),\n",
    "        nn.ReLU(),                             \n",
    "        nn.Linear(256,256, bias = True),\n",
    "        #nn.BatchNorm1d(128),                             \n",
    "        #nn.LeakyReLU(0.2),\n",
    "        nn.ReLU(),                             \n",
    "        nn.Linear(256,len(Y_COLUMNS)))\n",
    "\n",
    "    def encode(self, x, y):\n",
    "        inp = torch.cat((x,y),1)\n",
    "        out = self.encoder(inp)\n",
    "        mu = self.mu(out)\n",
    "        logvar = self.logvar(out)\n",
    "        return mu, logvar\n",
    "\n",
    "    def reparameterize(self, mu, logvar):\n",
    "        std = torch.exp(0.5*logvar)\n",
    "        eps = torch.randn_like(std)\n",
    "        return mu + eps*std\n",
    "        \n",
    "\n",
    "    def decode(self, z, x):\n",
    "        inp = torch.cat((z,x),1)\n",
    "        return self.decoder(inp)\n",
    "        \n",
    "\n",
    "    def forward(self, x, y):\n",
    "        mu, logvar = self.encode(x, y)\n",
    "        z = self.reparameterize(mu, logvar)\n",
    "        return self.decode(z, x), mu, logvar\n",
    "    \n",
    "    def sample(self, x):\n",
    "        noise = torch.randn((x.shape[0],LATENT_DIM)).cuda()\n",
    "        gen_y = self.decode(noise,x)\n",
    "        return torch.cat((gen_y,x),1)"
   ]
  },
  {
   "cell_type": "code",
   "execution_count": 0,
   "metadata": {
    "colab": {
     "base_uri": "https://localhost:8080/",
     "height": 372
    },
    "colab_type": "code",
    "id": "VFRP-ulXmWL9",
    "outputId": "e78f0974-368a-4ebb-828c-fa31b5670118"
   },
   "outputs": [
    {
     "name": "stderr",
     "output_type": "stream",
     "text": [
      "COMET INFO: ----------------------------\n",
      "COMET INFO: Comet.ml Experiment Summary:\n",
      "COMET INFO:   Data:\n",
      "COMET INFO:     url: https://www.comet.ml/torch-unfunctional/hwgans/1c1eb864cb134ed8a457e9e40ea66c65\n",
      "COMET INFO:   Metrics [count] (min, max):\n",
      "COMET INFO:     loss [5500]                   : (0.0, 118230.4296875)\n",
      "COMET INFO:     loss/discriminator [5000]     : (0.4304782748222351, 179321.703125)\n",
      "COMET INFO:     loss/generator [5000]         : (0.0, 760.203125)\n",
      "COMET INFO:     sys.cpu.percent.01 [40]       : (1.4, 54.8)\n",
      "COMET INFO:     sys.cpu.percent.02 [40]       : (1.3, 51.1)\n",
      "COMET INFO:     sys.cpu.percent.avg [40]      : (1.4, 52.05)\n",
      "COMET INFO:     sys.gpu.0.free_memory [45]    : (13927055360.0, 13927055360.0)\n",
      "COMET INFO:     sys.gpu.0.gpu_utilization [45]: (0.0, 17.0)\n",
      "COMET INFO:     sys.gpu.0.total_memory        : (17071734784.0, 17071734784.0)\n",
      "COMET INFO:     sys.gpu.0.used_memory [45]    : (3144679424.0, 3144679424.0)\n",
      "COMET INFO:     sys.ram.total [40]            : (13655232512.0, 13655232512.0)\n",
      "COMET INFO:     sys.ram.used [40]             : (5021749248.0, 5030014976.0)\n",
      "COMET INFO: ----------------------------\n",
      "COMET INFO: Experiment is live on comet.ml https://www.comet.ml/torch-unfunctional/hwgans/e711ac27cfc145e799e48ad003b16c07\n",
      "\n"
     ]
    }
   ],
   "source": [
    "LATENT_DIM = 2\n",
    "model = VAE().cuda()\n",
    "optimizer = torch.optim.Adam(model.parameters(), lr=1e-3)\n",
    "experiment = Experiment(api_key=\"dnwaE7rvtITtxwnj54lNinijy\", project_name=\"HWGANs\")# YOUR INFO"
   ]
  },
  {
   "cell_type": "code",
   "execution_count": 0,
   "metadata": {
    "colab": {},
    "colab_type": "code",
    "id": "Dp5CFyScmZe9"
   },
   "outputs": [],
   "source": [
    "def loss_function(recon_x, x, mu, logvar):\n",
    "    MSE = F.mse_loss(recon_x,x,reduction = \"sum\")\n",
    "    #BCE  = F.binary_cross_entropy(recon_x,x, reduction = \"sum\")\n",
    "    KLD =  -0.5 * torch.sum(1 + logvar - mu.pow(2) - logvar.exp())\n",
    "    return MSE, KLD"
   ]
  },
  {
   "cell_type": "code",
   "execution_count": 0,
   "metadata": {
    "colab": {},
    "colab_type": "code",
    "id": "IYrk9t8zmb9k"
   },
   "outputs": [],
   "source": [
    "def train_loop_VAE(epochs = 5000):\n",
    "    ks_result_best = 1.\n",
    "    for i in range(epochs):\n",
    "        real_data = next(infinite_data).to(\"cuda\")\n",
    "        x = real_data[:, len(Y_COLUMNS):]\n",
    "        y = real_data[:, : len(Y_COLUMNS)]\n",
    "        model.train()\n",
    "        optimizer.zero_grad()\n",
    "        recon_y, mu, logvar = model(x,y)\n",
    "        mse, kld = loss_function(recon_y, y, mu, logvar)\n",
    "        loss = mse + kld\n",
    "        experiment.log_metric('loss/mse', mse.item(), step=i)\n",
    "        experiment.log_metric('loss/kld', kld.item(), step=i)\n",
    "        experiment.log_metric('loss/total', loss.item(), step=i)\n",
    "        loss.backward()\n",
    "        optimizer.step()\n",
    "        if i % VALIDATION_INTERVAL == 0:\n",
    "            clear_output(True)        \n",
    "            validation_generated = model.sample(validation_x)\n",
    "            validation_generated_np = validation_generated.data.cpu().numpy()\n",
    "\n",
    "            fig, axes_list = plt.subplots(ncols=5, figsize=[6*len(Y_COLUMNS), 6])\n",
    "            ks_sum = 0.\n",
    "            for index, ax in enumerate(axes_list):\n",
    "                ax.hist(validation_generated_np[:, index], range=DATA_HIST_RANGE,\n",
    "                      alpha=0.5, density=True, label='Generated', bins=HIST_BINS)\n",
    "                ax.hist(validation_data_np[:, index], range=DATA_HIST_RANGE,\n",
    "                      alpha=0.5, density=True, label='Real', bins=HIST_BINS)\n",
    "                ax.set_xlabel(data.columns[index])\n",
    "                ks_result = ks_2samp(validation_generated_np[:, index],\n",
    "                                        validation_data_np[:, index])\n",
    "                ks_sum += ks_result.statistic\n",
    "                ax.set_title(\"KS stat = {:.4f}; p-value = {:.4E}\".format(*tuple(ks_result)))\n",
    "            if ks_sum/5. < ks_result_best:\n",
    "                best_model = copy.deepcopy(model)\n",
    "                ks_result_best = ks_sum/5.\n",
    "            fig.suptitle(\"Iteration {}\".format(i))\n",
    "            plt.show()\n",
    "    return best_model"
   ]
  },
  {
   "cell_type": "code",
   "execution_count": 0,
   "metadata": {
    "colab": {
     "base_uri": "https://localhost:8080/",
     "height": 452
    },
    "colab_type": "code",
    "id": "X7EVWERNmex3",
    "outputId": "aa8278ba-4669-49fa-b058-a136ecdca658"
   },
   "outputs": [
    {
     "data": {
      "image/png": "[encoded data removed]",
      "text/plain": [
       "<Figure size 2160x432 with 5 Axes>"
      ]
     },
     "metadata": {
      "tags": []
     },
     "output_type": "display_data"
    }
   ],
   "source": [
    "vae = train_loop_VAE(5000)"
   ]
  },
  {
   "cell_type": "markdown",
   "metadata": {
    "colab_type": "text",
    "id": "p8SCNnBJegQl"
   },
   "source": [
    "EBGAN-PT"
   ]
  },
  {
   "cell_type": "code",
   "execution_count": 0,
   "metadata": {
    "colab": {},
    "colab_type": "code",
    "id": "JlXVkZD5RMRc"
   },
   "outputs": [],
   "source": [
    "class Discriminator(nn.Module):\n",
    "    def __init__(self):\n",
    "        super(Discriminator, self).__init__()\n",
    "        # Encoder\n",
    "        self.encoder = nn.Sequential(\n",
    "        nn.Linear(len(X_COLUMNS) + len(Y_COLUMNS), 256, bias = True),\n",
    "        #nn.BatchNorm1d(512),\n",
    "        #nn.LeakyReLU(0.2),\n",
    "        nn.ReLU(),                             \n",
    "        nn.Linear(256,128, bias = True),\n",
    "        #nn.BatchNorm1d(512),\n",
    "        #nn.LeakyReLU(0.2),\n",
    "        nn.ReLU(),                             \n",
    "        nn.Linear(128, 5 , bias = True))\n",
    "        \n",
    "        # Decoder\n",
    "        self.decoder = nn.Sequential(nn.Linear(5 + len(X_COLUMNS), 256, bias = True),\n",
    "        #nn.BatchNorm1d(512),\n",
    "        #nn.LeakyReLU(0.2),\n",
    "        nn.ReLU(),                             \n",
    "        nn.Linear(256,256, bias = True),\n",
    "        #nn.BatchNorm1d(256),                            \n",
    "        #nn.LeakyReLU(0.2),\n",
    "        nn.ReLU(),                             \n",
    "        nn.Linear(256,256, bias = True),\n",
    "        #nn.BatchNorm1d(128),                             \n",
    "        #nn.LeakyReLU(0.2),\n",
    "        nn.ReLU(),                             \n",
    "        nn.Linear(256,len(Y_COLUMNS)))\n",
    "\n",
    "    def encode(self, x, y):\n",
    "        inp = torch.cat((x,y),1)\n",
    "        out = self.encoder(inp)\n",
    "        return out\n",
    "\n",
    "    def decode(self, z, x):\n",
    "        inp = torch.cat((z,x),1)\n",
    "        return self.decoder(inp)\n",
    "        \n",
    "\n",
    "    def forward(self, data):\n",
    "        y = data[:,:len(Y_COLUMNS)]\n",
    "        x = data[:,len(Y_COLUMNS):]\n",
    "        z = self.encode(x, y)\n",
    "        return torch.mean(torch.norm(self.decode(z, x) - y, p = 2, dim = 1, keepdim= True)), z "
   ]
  },
  {
   "cell_type": "code",
   "execution_count": 0,
   "metadata": {
    "colab": {
     "base_uri": "https://localhost:8080/",
     "height": 319
    },
    "colab_type": "code",
    "id": "xu7z3b8tRNjY",
    "outputId": "b2ec347e-cf6f-44bd-8f61-bf58496f6e08"
   },
   "outputs": [
    {
     "name": "stderr",
     "output_type": "stream",
     "text": [
      "COMET INFO: ----------------------------\n",
      "COMET INFO: Comet.ml Experiment Summary:\n",
      "COMET INFO:   Data:\n",
      "COMET INFO:     url: https://www.comet.ml/torch-unfunctional/hwgans/901782ec3b23473191e36bf5722bc57d\n",
      "COMET INFO:   Metrics [count] (min, max):\n",
      "COMET INFO:     sys.cpu.percent.01       : (1.8, 1.8)\n",
      "COMET INFO:     sys.cpu.percent.02       : (1.5, 1.5)\n",
      "COMET INFO:     sys.cpu.percent.avg      : (1.65, 1.65)\n",
      "COMET INFO:     sys.gpu.0.free_memory    : (9097248768.0, 9097248768.0)\n",
      "COMET INFO:     sys.gpu.0.gpu_utilization: (0.0, 0.0)\n",
      "COMET INFO:     sys.gpu.0.total_memory   : (11996954624.0, 11996954624.0)\n",
      "COMET INFO:     sys.gpu.0.used_memory    : (2899705856.0, 2899705856.0)\n",
      "COMET INFO:     sys.ram.total            : (13655232512.0, 13655232512.0)\n",
      "COMET INFO:     sys.ram.used             : (4543442944.0, 4543442944.0)\n",
      "COMET INFO: ----------------------------\n",
      "COMET INFO: Experiment is live on comet.ml https://www.comet.ml/torch-unfunctional/hwgans/6bf1c50e5b8b41b88ce10bff48111742\n",
      "\n"
     ]
    }
   ],
   "source": [
    "disc = Discriminator().cuda()\n",
    "disc_opt = torch.optim.Adam(disc.parameters())\n",
    "DISCRIMINATOR_ITERATIONS_PER_STEP = 10\n",
    "GENERATOR_ITERATIONS_PER_STEP = 1\n",
    "LATENT_DIM = 2\n",
    "gen, gen_opt, gen_scheduler = get_gen(sz= 1000, gamma = 0.5, lr = 0.01)\n",
    "experiment = Experiment(api_key=\"dnwaE7rvtITtxwnj54lNinijy\", project_name=\"HWGANs\")# YOUR INFO"
   ]
  },
  {
   "cell_type": "code",
   "execution_count": 0,
   "metadata": {
    "colab": {
     "base_uri": "https://localhost:8080/",
     "height": 452
    },
    "colab_type": "code",
    "id": "xP6pEPNdRTeV",
    "outputId": "40c9ef7b-1add-4b24-db70-b185e8030d92"
   },
   "outputs": [
    {
     "data": {
      "image/png": "[encoded data removed]",
      "text/plain": [
       "<Figure size 2160x432 with 5 Axes>"
      ]
     },
     "metadata": {
      "tags": []
     },
     "output_type": "display_data"
    }
   ],
   "source": [
    "ebgan = train_loop(\"EBGAN\", 10000)"
   ]
  },
  {
   "cell_type": "markdown",
   "metadata": {
    "colab_type": "text",
    "id": "1hz1OjgmRvE_"
   },
   "source": [
    "### Метрика с классификатором, 2 балла\n",
    "\n",
    "Одним из возможных способов подсчета качества вашего гана является качество классификатора обученного на разделение реальных и сгенерированных данных.\n",
    "\n",
    "1. Возьмите модель, например catboost, xgboost или lightgbm\n",
    "2. Сгененируйте достаточно большие выборки из реальных и сгенерированных данных (для каждой построенной вами модели)\n",
    "3. Обучите модель на бинарную классификацию\n",
    "4. Посчитайте ROC AUC модели, чем ближе к 0.5, тем лучше"
   ]
  },
  {
   "cell_type": "code",
   "execution_count": 0,
   "metadata": {
    "colab": {
     "base_uri": "https://localhost:8080/",
     "height": 375
    },
    "colab_type": "code",
    "id": "CeRWVvqcxP6l",
    "outputId": "7b1bf1d8-9081-4fb4-e643-d3fddc078b3b"
   },
   "outputs": [
    {
     "name": "stdout",
     "output_type": "stream",
     "text": [
      "Collecting catboost\n",
      "\u001b[?25l  Downloading https://files.pythonhosted.org/packages/94/ec/12b9a42b2ea7dfe5b602f235692ab2b61ee1334ff34334a15902272869e8/catboost-0.22-cp36-none-manylinux1_x86_64.whl (64.4MB)\n",
      "\u001b[K     |████████████████████████████████| 64.4MB 55kB/s \n",
      "\u001b[?25hRequirement already satisfied: six in /usr/local/lib/python3.6/dist-packages (from catboost) (1.12.0)\n",
      "Requirement already satisfied: scipy in /usr/local/lib/python3.6/dist-packages (from catboost) (1.4.1)\n",
      "Requirement already satisfied: graphviz in /usr/local/lib/python3.6/dist-packages (from catboost) (0.10.1)\n",
      "Requirement already satisfied: matplotlib in /usr/local/lib/python3.6/dist-packages (from catboost) (3.2.0)\n",
      "Requirement already satisfied: pandas>=0.24.0 in /usr/local/lib/python3.6/dist-packages (from catboost) (0.25.3)\n",
      "Requirement already satisfied: numpy>=1.16.0 in /usr/local/lib/python3.6/dist-packages (from catboost) (1.18.1)\n",
      "Requirement already satisfied: plotly in /usr/local/lib/python3.6/dist-packages (from catboost) (4.4.1)\n",
      "Requirement already satisfied: pyparsing!=2.0.4,!=2.1.2,!=2.1.6,>=2.0.1 in /usr/local/lib/python3.6/dist-packages (from matplotlib->catboost) (2.4.6)\n",
      "Requirement already satisfied: kiwisolver>=1.0.1 in /usr/local/lib/python3.6/dist-packages (from matplotlib->catboost) (1.1.0)\n",
      "Requirement already satisfied: python-dateutil>=2.1 in /usr/local/lib/python3.6/dist-packages (from matplotlib->catboost) (2.8.1)\n",
      "Requirement already satisfied: cycler>=0.10 in /usr/local/lib/python3.6/dist-packages (from matplotlib->catboost) (0.10.0)\n",
      "Requirement already satisfied: pytz>=2017.2 in /usr/local/lib/python3.6/dist-packages (from pandas>=0.24.0->catboost) (2018.9)\n",
      "Requirement already satisfied: retrying>=1.3.3 in /usr/local/lib/python3.6/dist-packages (from plotly->catboost) (1.3.3)\n",
      "Requirement already satisfied: setuptools in /usr/local/lib/python3.6/dist-packages (from kiwisolver>=1.0.1->matplotlib->catboost) (45.2.0)\n",
      "Installing collected packages: catboost\n",
      "Successfully installed catboost-0.22\n"
     ]
    }
   ],
   "source": [
    "!pip install catboost\n",
    "import sklearn as skl\n",
    "from catboost import CatBoostClassifier"
   ]
  },
  {
   "cell_type": "code",
   "execution_count": 0,
   "metadata": {
    "colab": {},
    "colab_type": "code",
    "id": "XRVBV_ghJSBe"
   },
   "outputs": [],
   "source": [
    "def cat_rok_auk(model):\n",
    "    true_y = validation_data_np[:,:5]\n",
    "    if isinstance(model,VAE):\n",
    "        validation_generated = vae.sample(validation_x)\n",
    "        validation_generated_np = validation_generated.data.cpu().numpy()\n",
    "        fake_y = validation_generated_np[:,:5]\n",
    "    else:\n",
    "        noise = torch.randn((validation_x.shape[0],LATENT_DIM)).cuda()\n",
    "        gen_input = torch.cat((validation_x,noise),1)\n",
    "        fake_y = model(gen_input).detach().cpu().numpy()\n",
    "    true_label = np.ones(100000)\n",
    "    fake_label = np.zeros(100000)\n",
    "    true_data = np.concatenate((true_y,true_label.reshape(100000,1)),1)\n",
    "    fake_data = np.concatenate((fake_y,fake_label.reshape(100000,1)),1)\n",
    "    np_data = np.concatenate((true_data,fake_data))\n",
    "    np.random.shuffle(np_data)\n",
    "    X, y = np_data[:,:5],np_data[:,5]\n",
    "    X_train, X_test, y_train, y_test = train_test_split(X,y)\n",
    "    classifier = CatBoostClassifier(\n",
    "    iterations=100,\n",
    "    learning_rate=0.03,\n",
    "    task_type='GPU', verbose = False)\n",
    "    classifier.fit(X_train,y_train)\n",
    "    return skl.metrics.roc_auc_score(y_test,classifier.predict_proba(X_test)[:,1]) "
   ]
  },
  {
   "cell_type": "code",
   "execution_count": 0,
   "metadata": {
    "colab": {
     "base_uri": "https://localhost:8080/",
     "height": 35
    },
    "colab_type": "code",
    "id": "W0uBaPyK0FYB",
    "outputId": "e14a801e-47d3-4611-eeb4-14e1ee8b787c"
   },
   "outputs": [
    {
     "data": {
      "text/plain": [
       "0.6415288562989685"
      ]
     },
     "execution_count": 37,
     "metadata": {
      "tags": []
     },
     "output_type": "execute_result"
    }
   ],
   "source": [
    "cat_rok_auk(wgan_gp)"
   ]
  },
  {
   "cell_type": "code",
   "execution_count": 0,
   "metadata": {
    "colab": {
     "base_uri": "https://localhost:8080/",
     "height": 35
    },
    "colab_type": "code",
    "id": "qGaqJIA6khxv",
    "outputId": "a1982a09-7685-4533-dc2f-af28e3d3e4b9"
   },
   "outputs": [
    {
     "data": {
      "text/plain": [
       "0.7574340852392022"
      ]
     },
     "execution_count": 148,
     "metadata": {
      "tags": []
     },
     "output_type": "execute_result"
    }
   ],
   "source": [
    "cat_rok_auk(wgan)"
   ]
  },
  {
   "cell_type": "code",
   "execution_count": 0,
   "metadata": {
    "colab": {
     "base_uri": "https://localhost:8080/",
     "height": 35
    },
    "colab_type": "code",
    "id": "iXmS8ZRX07cK",
    "outputId": "59da963b-6e42-41ac-d38b-4d8e5629e43b"
   },
   "outputs": [
    {
     "data": {
      "text/plain": [
       "0.7420429770766981"
      ]
     },
     "execution_count": 150,
     "metadata": {
      "tags": []
     },
     "output_type": "execute_result"
    }
   ],
   "source": [
    "cat_rok_auk(jsgan)"
   ]
  },
  {
   "cell_type": "code",
   "execution_count": 0,
   "metadata": {
    "colab": {
     "base_uri": "https://localhost:8080/",
     "height": 35
    },
    "colab_type": "code",
    "id": "OrzfbnNr0ZQy",
    "outputId": "cf636c9d-add0-4ab8-f2bf-aef05d5752b7"
   },
   "outputs": [
    {
     "data": {
      "text/plain": [
       "0.7173973667478358"
      ]
     },
     "execution_count": 149,
     "metadata": {
      "tags": []
     },
     "output_type": "execute_result"
    }
   ],
   "source": [
    "cat_rok_auk(lsgan)"
   ]
  },
  {
   "cell_type": "code",
   "execution_count": 0,
   "metadata": {
    "colab": {
     "base_uri": "https://localhost:8080/",
     "height": 35
    },
    "colab_type": "code",
    "id": "A3CdFPs51bpF",
    "outputId": "f8e1b3b0-032d-410e-8316-f3b4874b391b"
   },
   "outputs": [
    {
     "data": {
      "text/plain": [
       "0.8429346482258935"
      ]
     },
     "execution_count": 151,
     "metadata": {
      "tags": []
     },
     "output_type": "execute_result"
    }
   ],
   "source": [
    "cat_rok_auk(vae)"
   ]
  },
  {
   "cell_type": "code",
   "execution_count": 0,
   "metadata": {
    "colab": {
     "base_uri": "https://localhost:8080/",
     "height": 35
    },
    "colab_type": "code",
    "id": "rZd1R7RwRLAQ",
    "outputId": "64c6fe54-767d-4d13-8359-44d89eb401fb"
   },
   "outputs": [
    {
     "data": {
      "text/plain": [
       "0.756129938350395"
      ]
     },
     "execution_count": 112,
     "metadata": {
      "tags": []
     },
     "output_type": "execute_result"
    }
   ],
   "source": [
    "cat_rok_auk(ebgan)"
   ]
  },
  {
   "cell_type": "markdown",
   "metadata": {
    "colab_type": "text",
    "id": "nt3fdPa9RvFA"
   },
   "source": [
    "### Обьяснения, 0.5 балла\n",
    "\n",
    "1. Напишите, почему для одних ганов метрика выше чем для других.\n",
    "2. Напишите как можно было бы улучшить те ганы которые у вас есть. \n",
    "3. Напишите, какие бы еще модели тут можно было бы попробовать"
   ]
  },
  {
   "cell_type": "markdown",
   "metadata": {
    "colab_type": "text",
    "id": "vRXmDl5AOk8I"
   },
   "source": [
    "1)Как мне кажется, многое зависит от подбора гиперпараметров, и при ином подборе могла бы быть немного другая картина. Однако стоит отметить, что WGAN-GP обучается очень стабильно (потому что мы штрафуем за слишком большие градиенты), WGAN - наоборот, дискриминатор либо взрывается либо наоборот тухнет (в зависимости от того, насколько сильно мы ограничим веса). JSGAN - вроде обучался стабильно, и проблема была только не дать дискриманатору задушить генератор. LSGAN - давал большие градиенты за счет MSE, пришлось усилить генератор, чтобы дискриминатор не слишком сильно его шатал (ну или можно было lr поменьше сделать). EBGAN почему-то выдавал данные с перевесом в пользу наиболее вероятных значений. Может быть это связанно с дискриминатором в виде автокодировщика, который сильнее бьет за то, что он вообще не видел в данных и не может реконструировать, чем за то, что он видел, но при другом условии.\n",
    "\n",
    "2)Я бы использовал ансамбль ганов. Часто во время обучения можно было наблюдать, что по одной фиче ган выдает почти идеально похожее на таргет распределение, в то время как по остальным - сильно промахивается. Можно было бы обучить 5 ганов, каждый из которых давал бы наилучший результат на какой-то одной фиче (по той же KS stat), и потом просто генерить каждым ганом только его лучшую фичу.  \n",
    "\n",
    "3)Можно использовать, например, kernel density estimation, благо размерность данных сравнительно небольшая"
   ]
  },
  {
   "cell_type": "code",
   "execution_count": 0,
   "metadata": {
    "colab": {},
    "colab_type": "code",
    "id": "x7PJf2XvSMqd"
   },
   "outputs": [],
   "source": []
  }
 ],
 "metadata": {
  "accelerator": "GPU",
  "colab": {
   "collapsed_sections": [],
   "name": "WGAN.ipynb",
   "provenance": []
  },
  "kernelspec": {
   "display_name": "Python 2",
   "language": "python",
   "name": "python2"
  },
  "language_info": {
   "codemirror_mode": {
    "name": "ipython",
    "version": 2
   },
   "file_extension": ".py",
   "mimetype": "text/x-python",
   "name": "python",
   "nbconvert_exporter": "python",
   "pygments_lexer": "ipython2",
   "version": "2.7.6"
  }
 },
 "nbformat": 4,
 "nbformat_minor": 1
}
